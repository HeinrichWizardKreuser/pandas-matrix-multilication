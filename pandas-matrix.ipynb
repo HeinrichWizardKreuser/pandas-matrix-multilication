{
 "cells": [
  {
   "cell_type": "code",
   "execution_count": 1,
   "metadata": {},
   "outputs": [],
   "source": [
    "import pandas as pd\n",
    "import random\n",
    "from scipy.optimize import linear_sum_assignment"
   ]
  },
  {
   "cell_type": "code",
   "execution_count": 2,
   "metadata": {},
   "outputs": [],
   "source": [
    "# number of Constraints, BNBs and Users\n",
    "n = {'c': 4, 'b': 6, 'u': 4}"
   ]
  },
  {
   "cell_type": "code",
   "execution_count": 3,
   "metadata": {},
   "outputs": [
    {
     "data": {
      "text/plain": [
       "['c_0', 'c_1', 'c_2', 'c_3']"
      ]
     },
     "execution_count": 3,
     "metadata": {},
     "output_type": "execute_result"
    }
   ],
   "source": [
    "# the list of constraints for this session\n",
    "C = [ f\"c_{c}\" for c in range(n['c']) ]\n",
    "C"
   ]
  },
  {
   "cell_type": "code",
   "execution_count": 4,
   "metadata": {},
   "outputs": [
    {
     "data": {
      "text/plain": [
       "['u_0', 'u_1', 'u_2', 'u_3']"
      ]
     },
     "execution_count": 4,
     "metadata": {},
     "output_type": "execute_result"
    }
   ],
   "source": [
    "# the list of users for this session\n",
    "users = [ f\"u_{u}\" for u in range(n['u']) ]\n",
    "users"
   ]
  },
  {
   "cell_type": "code",
   "execution_count": 5,
   "metadata": {},
   "outputs": [],
   "source": [
    "def generate_B(): \n",
    "    dt = { \n",
    "        f\"b_{b}\": [ random.choice([0, 1]) for c in C ] \n",
    "        for b in range(n['b']) \n",
    "    }\n",
    "    return pd.DataFrame(dt, index=C).transpose()\n",
    "\n",
    "def generate_U():\n",
    "    dt = { \n",
    "        c: [ random.choice([0, 1]) for u in range(n['u']) ] \n",
    "        for c in C \n",
    "    }\n",
    "    return pd.DataFrame(dt, index=users).transpose()"
   ]
  },
  {
   "cell_type": "code",
   "execution_count": 6,
   "metadata": {
    "scrolled": true
   },
   "outputs": [
    {
     "data": {
      "text/html": [
       "<div>\n",
       "<style scoped>\n",
       "    .dataframe tbody tr th:only-of-type {\n",
       "        vertical-align: middle;\n",
       "    }\n",
       "\n",
       "    .dataframe tbody tr th {\n",
       "        vertical-align: top;\n",
       "    }\n",
       "\n",
       "    .dataframe thead th {\n",
       "        text-align: right;\n",
       "    }\n",
       "</style>\n",
       "<table border=\"1\" class=\"dataframe\">\n",
       "  <thead>\n",
       "    <tr style=\"text-align: right;\">\n",
       "      <th></th>\n",
       "      <th>c_0</th>\n",
       "      <th>c_1</th>\n",
       "      <th>c_2</th>\n",
       "      <th>c_3</th>\n",
       "    </tr>\n",
       "  </thead>\n",
       "  <tbody>\n",
       "    <tr>\n",
       "      <th>b_0</th>\n",
       "      <td>1</td>\n",
       "      <td>1</td>\n",
       "      <td>0</td>\n",
       "      <td>0</td>\n",
       "    </tr>\n",
       "    <tr>\n",
       "      <th>b_1</th>\n",
       "      <td>0</td>\n",
       "      <td>1</td>\n",
       "      <td>1</td>\n",
       "      <td>1</td>\n",
       "    </tr>\n",
       "    <tr>\n",
       "      <th>b_2</th>\n",
       "      <td>1</td>\n",
       "      <td>0</td>\n",
       "      <td>0</td>\n",
       "      <td>1</td>\n",
       "    </tr>\n",
       "    <tr>\n",
       "      <th>b_3</th>\n",
       "      <td>0</td>\n",
       "      <td>0</td>\n",
       "      <td>1</td>\n",
       "      <td>1</td>\n",
       "    </tr>\n",
       "    <tr>\n",
       "      <th>b_4</th>\n",
       "      <td>0</td>\n",
       "      <td>1</td>\n",
       "      <td>1</td>\n",
       "      <td>1</td>\n",
       "    </tr>\n",
       "    <tr>\n",
       "      <th>b_5</th>\n",
       "      <td>0</td>\n",
       "      <td>1</td>\n",
       "      <td>1</td>\n",
       "      <td>0</td>\n",
       "    </tr>\n",
       "  </tbody>\n",
       "</table>\n",
       "</div>"
      ],
      "text/plain": [
       "     c_0  c_1  c_2  c_3\n",
       "b_0    1    1    0    0\n",
       "b_1    0    1    1    1\n",
       "b_2    1    0    0    1\n",
       "b_3    0    0    1    1\n",
       "b_4    0    1    1    1\n",
       "b_5    0    1    1    0"
      ]
     },
     "execution_count": 6,
     "metadata": {},
     "output_type": "execute_result"
    }
   ],
   "source": [
    "# generate the B matrix:\n",
    "#   rows: BNBs\n",
    "#   cols: constraints that the BNB does or does not meet\n",
    "B = generate_B()\n",
    "B"
   ]
  },
  {
   "cell_type": "code",
   "execution_count": 7,
   "metadata": {
    "scrolled": true
   },
   "outputs": [
    {
     "data": {
      "text/html": [
       "<div>\n",
       "<style scoped>\n",
       "    .dataframe tbody tr th:only-of-type {\n",
       "        vertical-align: middle;\n",
       "    }\n",
       "\n",
       "    .dataframe tbody tr th {\n",
       "        vertical-align: top;\n",
       "    }\n",
       "\n",
       "    .dataframe thead th {\n",
       "        text-align: right;\n",
       "    }\n",
       "</style>\n",
       "<table border=\"1\" class=\"dataframe\">\n",
       "  <thead>\n",
       "    <tr style=\"text-align: right;\">\n",
       "      <th></th>\n",
       "      <th>u_0</th>\n",
       "      <th>u_1</th>\n",
       "      <th>u_2</th>\n",
       "      <th>u_3</th>\n",
       "    </tr>\n",
       "  </thead>\n",
       "  <tbody>\n",
       "    <tr>\n",
       "      <th>c_0</th>\n",
       "      <td>0</td>\n",
       "      <td>0</td>\n",
       "      <td>0</td>\n",
       "      <td>1</td>\n",
       "    </tr>\n",
       "    <tr>\n",
       "      <th>c_1</th>\n",
       "      <td>1</td>\n",
       "      <td>1</td>\n",
       "      <td>0</td>\n",
       "      <td>0</td>\n",
       "    </tr>\n",
       "    <tr>\n",
       "      <th>c_2</th>\n",
       "      <td>0</td>\n",
       "      <td>1</td>\n",
       "      <td>1</td>\n",
       "      <td>0</td>\n",
       "    </tr>\n",
       "    <tr>\n",
       "      <th>c_3</th>\n",
       "      <td>0</td>\n",
       "      <td>1</td>\n",
       "      <td>1</td>\n",
       "      <td>0</td>\n",
       "    </tr>\n",
       "  </tbody>\n",
       "</table>\n",
       "</div>"
      ],
      "text/plain": [
       "     u_0  u_1  u_2  u_3\n",
       "c_0    0    0    0    1\n",
       "c_1    1    1    0    0\n",
       "c_2    0    1    1    0\n",
       "c_3    0    1    1    0"
      ]
     },
     "execution_count": 7,
     "metadata": {},
     "output_type": "execute_result"
    }
   ],
   "source": [
    "# generate the U matrix:\n",
    "#   rows: constraints\n",
    "#   cols: user that may or may not require constraint\n",
    "U = generate_U()\n",
    "U"
   ]
  },
  {
   "cell_type": "code",
   "execution_count": 8,
   "metadata": {},
   "outputs": [
    {
     "data": {
      "text/html": [
       "<div>\n",
       "<style scoped>\n",
       "    .dataframe tbody tr th:only-of-type {\n",
       "        vertical-align: middle;\n",
       "    }\n",
       "\n",
       "    .dataframe tbody tr th {\n",
       "        vertical-align: top;\n",
       "    }\n",
       "\n",
       "    .dataframe thead th {\n",
       "        text-align: right;\n",
       "    }\n",
       "</style>\n",
       "<table border=\"1\" class=\"dataframe\">\n",
       "  <thead>\n",
       "    <tr style=\"text-align: right;\">\n",
       "      <th></th>\n",
       "      <th>u_0</th>\n",
       "      <th>u_1</th>\n",
       "      <th>u_2</th>\n",
       "      <th>u_3</th>\n",
       "    </tr>\n",
       "  </thead>\n",
       "  <tbody>\n",
       "    <tr>\n",
       "      <th>b_0</th>\n",
       "      <td>1</td>\n",
       "      <td>1</td>\n",
       "      <td>0</td>\n",
       "      <td>1</td>\n",
       "    </tr>\n",
       "    <tr>\n",
       "      <th>b_1</th>\n",
       "      <td>1</td>\n",
       "      <td>3</td>\n",
       "      <td>2</td>\n",
       "      <td>0</td>\n",
       "    </tr>\n",
       "    <tr>\n",
       "      <th>b_2</th>\n",
       "      <td>0</td>\n",
       "      <td>1</td>\n",
       "      <td>1</td>\n",
       "      <td>1</td>\n",
       "    </tr>\n",
       "    <tr>\n",
       "      <th>b_3</th>\n",
       "      <td>0</td>\n",
       "      <td>2</td>\n",
       "      <td>2</td>\n",
       "      <td>0</td>\n",
       "    </tr>\n",
       "    <tr>\n",
       "      <th>b_4</th>\n",
       "      <td>1</td>\n",
       "      <td>3</td>\n",
       "      <td>2</td>\n",
       "      <td>0</td>\n",
       "    </tr>\n",
       "    <tr>\n",
       "      <th>b_5</th>\n",
       "      <td>1</td>\n",
       "      <td>2</td>\n",
       "      <td>1</td>\n",
       "      <td>0</td>\n",
       "    </tr>\n",
       "  </tbody>\n",
       "</table>\n",
       "</div>"
      ],
      "text/plain": [
       "     u_0  u_1  u_2  u_3\n",
       "b_0    1    1    0    1\n",
       "b_1    1    3    2    0\n",
       "b_2    0    1    1    1\n",
       "b_3    0    2    2    0\n",
       "b_4    1    3    2    0\n",
       "b_5    1    2    1    0"
      ]
     },
     "execution_count": 8,
     "metadata": {},
     "output_type": "execute_result"
    }
   ],
   "source": [
    "# create A matrix - score for pairing User and BNB.\n",
    "#   rows: BNB\n",
    "#   cols: User \n",
    "A = B.dot(U)\n",
    "A"
   ]
  },
  {
   "cell_type": "code",
   "execution_count": 9,
   "metadata": {},
   "outputs": [
    {
     "data": {
      "text/plain": [
       "array([[3, 3, 4, 3],\n",
       "       [3, 1, 2, 4],\n",
       "       [4, 3, 3, 3],\n",
       "       [4, 2, 2, 4],\n",
       "       [3, 1, 2, 4],\n",
       "       [3, 2, 3, 4]])"
      ]
     },
     "execution_count": 9,
     "metadata": {},
     "output_type": "execute_result"
    }
   ],
   "source": [
    "# define the cost matrix: apply cell=n_c-cell for each cell in A\n",
    "cost = A.copy().to_numpy()\n",
    "An = A.to_numpy()\n",
    "mx_cost = len(C)\n",
    "for row in cost:\n",
    "    for u in range(len(users)):\n",
    "        row[u] = mx_cost - row[u]\n",
    "cost"
   ]
  },
  {
   "cell_type": "code",
   "execution_count": 10,
   "metadata": {},
   "outputs": [],
   "source": [
    "# apply CAP to cost matrix to get indexes denoting the BNB and User pairings\n",
    "bs, us = linear_sum_assignment(cost)"
   ]
  },
  {
   "cell_type": "code",
   "execution_count": 15,
   "metadata": {},
   "outputs": [
    {
     "name": "stdout",
     "output_type": "stream",
     "text": [
      "Pairings:\n"
     ]
    },
    {
     "data": {
      "text/html": [
       "<div>\n",
       "<style scoped>\n",
       "    .dataframe tbody tr th:only-of-type {\n",
       "        vertical-align: middle;\n",
       "    }\n",
       "\n",
       "    .dataframe tbody tr th {\n",
       "        vertical-align: top;\n",
       "    }\n",
       "\n",
       "    .dataframe thead th {\n",
       "        text-align: right;\n",
       "    }\n",
       "</style>\n",
       "<table border=\"1\" class=\"dataframe\">\n",
       "  <thead>\n",
       "    <tr style=\"text-align: right;\">\n",
       "      <th></th>\n",
       "      <th>u_0</th>\n",
       "      <th>u_1</th>\n",
       "      <th>u_2</th>\n",
       "      <th>u_3</th>\n",
       "    </tr>\n",
       "  </thead>\n",
       "  <tbody>\n",
       "    <tr>\n",
       "      <th>b_0</th>\n",
       "      <td>[1]</td>\n",
       "      <td>1</td>\n",
       "      <td>0</td>\n",
       "      <td>1</td>\n",
       "    </tr>\n",
       "    <tr>\n",
       "      <th>b_1</th>\n",
       "      <td>1</td>\n",
       "      <td>[3]</td>\n",
       "      <td>2</td>\n",
       "      <td>0</td>\n",
       "    </tr>\n",
       "    <tr>\n",
       "      <th>b_2</th>\n",
       "      <td>0</td>\n",
       "      <td>1</td>\n",
       "      <td>1</td>\n",
       "      <td>[1]</td>\n",
       "    </tr>\n",
       "    <tr>\n",
       "      <th>b_3</th>\n",
       "      <td>0</td>\n",
       "      <td>2</td>\n",
       "      <td>[2]</td>\n",
       "      <td>0</td>\n",
       "    </tr>\n",
       "    <tr>\n",
       "      <th>b_4</th>\n",
       "      <td>1</td>\n",
       "      <td>3</td>\n",
       "      <td>2</td>\n",
       "      <td>0</td>\n",
       "    </tr>\n",
       "    <tr>\n",
       "      <th>b_5</th>\n",
       "      <td>1</td>\n",
       "      <td>2</td>\n",
       "      <td>1</td>\n",
       "      <td>0</td>\n",
       "    </tr>\n",
       "  </tbody>\n",
       "</table>\n",
       "</div>"
      ],
      "text/plain": [
       "     u_0  u_1  u_2  u_3\n",
       "b_0  [1]   1    0    1 \n",
       "b_1   1   [3]   2    0 \n",
       "b_2   0    1    1   [1]\n",
       "b_3   0    2   [2]   0 \n",
       "b_4   1    3    2    0 \n",
       "b_5   1    2    1    0 "
      ]
     },
     "execution_count": 15,
     "metadata": {},
     "output_type": "execute_result"
    }
   ],
   "source": [
    "# report the outcome of the algorithm\n",
    "user2bnb = {} # pairing of each user to their bnb\n",
    "user2satisfaction = {} \n",
    "dt = {}\n",
    "for ri, row in enumerate(A.iterrows()):\n",
    "    row_name = row[0]\n",
    "    new_row = [ f\" {col} \" for col in row[1] ] \n",
    "    if ri in bs:\n",
    "        b = list(bs).index(ri)\n",
    "        u = us[b]\n",
    "        new_row[u] = f\"[{new_row[u][1:-1]}]\"\n",
    "        user2bnb[f\"u_{u}\"] = f\"b_{b}\"\n",
    "        user2satisfaction[f\"u_{u}\"] = int(new_row[u][1:-1])\n",
    "    dt[row_name] = new_row\n",
    "print(\"Pairings:\")\n",
    "pd.DataFrame(dt, index=users).transpose()"
   ]
  },
  {
   "cell_type": "code",
   "execution_count": 12,
   "metadata": {},
   "outputs": [
    {
     "name": "stdout",
     "output_type": "stream",
     "text": [
      "  user  bnb  satisfaction  max  % satisfaction\n",
      "0  u_0  b_0             1    1           100.0\n",
      "1  u_1  b_1             3    3           100.0\n",
      "2  u_2  b_3             2    2           100.0\n",
      "3  u_3  b_2             1    1           100.0\n",
      "total satisfaction: 7\n",
      "max satisfaction: 7\n",
      "total satisfaction score: 100.0%\n"
     ]
    }
   ],
   "source": [
    "# print statistics\n",
    "stats = {\n",
    "    'user': [],\n",
    "    'bnb': [],\n",
    "    'satisfaction': [],\n",
    "    'max': [],\n",
    "    '% satisfaction': []\n",
    "}\n",
    "user2numconstraints = dict(U.sum(axis=0))\n",
    "for u in users:\n",
    "    assigned_bnb = user2bnb[u]\n",
    "    num_constraints = user2numconstraints[u]\n",
    "    satisfaction = user2satisfaction[u]\n",
    "    \n",
    "    stats['user'].append(u)\n",
    "    stats['bnb'].append(assigned_bnb)\n",
    "    stats['satisfaction'].append(satisfaction)\n",
    "    stats['max'].append(num_constraints)\n",
    "    stats['% satisfaction'].append(satisfaction/num_constraints * 100)\n",
    "\n",
    "print(pd.DataFrame(stats))\n",
    "total_satisfaction = An[bs, us].sum()\n",
    "print(\"total satisfaction:\", total_satisfaction)\n",
    "max_satisfaction = sum(user2numconstraints.values())\n",
    "print(\"max satisfaction:\", max_satisfaction)\n",
    "print(\"total satisfaction score:\", f\"{round(total_satisfaction/max_satisfaction*100, 2)}%\")"
   ]
  },
  {
   "cell_type": "code",
   "execution_count": null,
   "metadata": {},
   "outputs": [],
   "source": []
  }
 ],
 "metadata": {
  "kernelspec": {
   "display_name": "Python 3",
   "language": "python",
   "name": "python3"
  },
  "language_info": {
   "codemirror_mode": {
    "name": "ipython",
    "version": 3
   },
   "file_extension": ".py",
   "mimetype": "text/x-python",
   "name": "python",
   "nbconvert_exporter": "python",
   "pygments_lexer": "ipython3",
   "version": "3.8.2"
  }
 },
 "nbformat": 4,
 "nbformat_minor": 4
}
